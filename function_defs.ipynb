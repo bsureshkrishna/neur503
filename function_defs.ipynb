{
  "nbformat": 4,
  "nbformat_minor": 0,
  "metadata": {
    "colab": {
      "provenance": [],
      "authorship_tag": "ABX9TyO0M9rE7o+C+1AuEU9PGFIB"
    },
    "kernelspec": {
      "name": "python3",
      "display_name": "Python 3"
    },
    "language_info": {
      "name": "python"
    }
  },
  "cells": [
    {
      "cell_type": "code",
      "execution_count": 2,
      "metadata": {
        "id": "mFeRIWVQ2FDG"
      },
      "outputs": [],
      "source": [
        "# prompt: a toy function to print hello world\n",
        "\n",
        "def hello_world():\n",
        "  print(\"Hello World\")\n",
        "\n",
        "\n"
      ]
    },
    {
      "cell_type": "markdown",
      "source": [],
      "metadata": {
        "id": "JezgTRyZ2Gje"
      }
    }
  ]
}